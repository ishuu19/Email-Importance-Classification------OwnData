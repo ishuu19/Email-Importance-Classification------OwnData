{
 "cells": [
  {
   "cell_type": "markdown",
   "id": "ec7e1eab-f473-4901-8026-0e48e8111b64",
   "metadata": {},
   "source": [
    "### A little backgroung\n",
    "I have asked 8 of my friends about one thing that they would want to be automated or done through machine learning. 3 of them said that they get many unnecessary emails everyday and they were asking for a tool that would classify emails for them and would only send them notifications if they are important. Based on that, we started our journey.\n",
    "\n",
    "### About the Dataset\n",
    "These are actual emails we got from my hkbu and personal email. There are 4 columns left after cleaning the data. I have removed any links that were in the data. unfortunately we could not get the images from the emails. \n",
    "Now based on our interest in emails, we have classified them and gave them an importance value.\n",
    "##### 0.0 -> this represents spam\n",
    "##### 1.0 -> represents any marketing emails from differnt companies and most of the times we donot want to see them.\n",
    "##### 2.0 -> emails from our univeristy that seems like marketing. this ones are a little more validated.\n",
    "##### 3.0 -> these are internship related emails. mostly from our university.\n",
    "##### 4.0 -> These are emails from our classmates, university professors regarding any courses\n",
    "##### 5.0 -> You might think that these are the most important ones which is partially true. These are all emails from our banks, students halls, internship offer letters and related.\n",
    "\n"
   ]
  },
  {
   "cell_type": "code",
   "execution_count": null,
   "id": "cb1143aa-30f3-4fa7-a658-ad3d9baf6247",
   "metadata": {},
   "outputs": [],
   "source": []
  },
  {
   "cell_type": "code",
   "execution_count": 60,
   "id": "88702353-34c5-47cb-b306-e3ec2e00477d",
   "metadata": {},
   "outputs": [],
   "source": [
    "import pandas as pd\n",
    "from sklearn.model_selection import train_test_split, StratifiedKFold, cross_val_score\n",
    "from sklearn.compose import ColumnTransformer\n",
    "from sklearn.feature_extraction.text import TfidfVectorizer\n",
    "from sklearn.linear_model import LogisticRegression\n",
    "from sklearn.ensemble import RandomForestClassifier, GradientBoostingClassifier\n",
    "from sklearn.svm import SVC\n",
    "from imblearn.over_sampling import SMOTE\n",
    "import numpy as np\n",
    "from sklearn.pipeline import Pipeline\n",
    "from sklearn.metrics import accuracy_score\n",
    "from sklearn.metrics import f1_score, classification_report\n",
    "from sklearn.base import clone\n",
    "import warnings\n",
    "warnings.filterwarnings('ignore')\n"
   ]
  },
  {
   "cell_type": "code",
   "execution_count": 2,
   "id": "21086611-2f3d-4c48-91f4-934afe32787f",
   "metadata": {},
   "outputs": [
    {
     "data": {
      "text/html": [
       "<div>\n",
       "<style scoped>\n",
       "    .dataframe tbody tr th:only-of-type {\n",
       "        vertical-align: middle;\n",
       "    }\n",
       "\n",
       "    .dataframe tbody tr th {\n",
       "        vertical-align: top;\n",
       "    }\n",
       "\n",
       "    .dataframe thead th {\n",
       "        text-align: right;\n",
       "    }\n",
       "</style>\n",
       "<table border=\"1\" class=\"dataframe\">\n",
       "  <thead>\n",
       "    <tr style=\"text-align: right;\">\n",
       "      <th></th>\n",
       "      <th>From</th>\n",
       "      <th>Subject</th>\n",
       "      <th>Clean Body (No Links)</th>\n",
       "      <th>Importance</th>\n",
       "    </tr>\n",
       "  </thead>\n",
       "  <tbody>\n",
       "    <tr>\n",
       "      <th>0</th>\n",
       "      <td>HKBU</td>\n",
       "      <td>Today@HKBU</td>\n",
       "      <td>\\nExciting events at HKBU today.\\n\\nIf you can...</td>\n",
       "      <td>2.0</td>\n",
       "    </tr>\n",
       "    <tr>\n",
       "      <th>1</th>\n",
       "      <td>Estates Office</td>\n",
       "      <td>Online Dental Health Talk - Daily Oral Health ...</td>\n",
       "      <td>Dear Students and Colleagues,\\n\\n \\n\\nWe are e...</td>\n",
       "      <td>2.0</td>\n",
       "    </tr>\n",
       "    <tr>\n",
       "      <th>2</th>\n",
       "      <td>Language Centre Language Enhancement Programme</td>\n",
       "      <td>[Invitation] The Grand Final of the Three-Minu...</td>\n",
       "      <td>Dear Students and Colleagues,_x000D_\\n_x000D_\\...</td>\n",
       "      <td>2.0</td>\n",
       "    </tr>\n",
       "    <tr>\n",
       "      <th>3</th>\n",
       "      <td>Career Centre</td>\n",
       "      <td>Join the InnoX Entrepreneurship Summer Camp 20...</td>\n",
       "      <td>&lt; _x000D_\\n &lt; _x000D_\\n &lt; _x000D_\\n_x000D_\\nI...</td>\n",
       "      <td>2.0</td>\n",
       "    </tr>\n",
       "    <tr>\n",
       "      <th>4</th>\n",
       "      <td>Language Centre Language Enhancement Programme</td>\n",
       "      <td>[Summer Course] Register for SUPG1010 German I...</td>\n",
       "      <td>Dear students,_x000D_\\n _x000D_\\nSUPG1010 Germ...</td>\n",
       "      <td>2.0</td>\n",
       "    </tr>\n",
       "  </tbody>\n",
       "</table>\n",
       "</div>"
      ],
      "text/plain": [
       "                                             From  \\\n",
       "0                                            HKBU   \n",
       "1                                  Estates Office   \n",
       "2  Language Centre Language Enhancement Programme   \n",
       "3                                   Career Centre   \n",
       "4  Language Centre Language Enhancement Programme   \n",
       "\n",
       "                                             Subject  \\\n",
       "0                                         Today@HKBU   \n",
       "1  Online Dental Health Talk - Daily Oral Health ...   \n",
       "2  [Invitation] The Grand Final of the Three-Minu...   \n",
       "3  Join the InnoX Entrepreneurship Summer Camp 20...   \n",
       "4  [Summer Course] Register for SUPG1010 German I...   \n",
       "\n",
       "                               Clean Body (No Links)  Importance  \n",
       "0  \\nExciting events at HKBU today.\\n\\nIf you can...         2.0  \n",
       "1  Dear Students and Colleagues,\\n\\n \\n\\nWe are e...         2.0  \n",
       "2  Dear Students and Colleagues,_x000D_\\n_x000D_\\...         2.0  \n",
       "3   < _x000D_\\n < _x000D_\\n < _x000D_\\n_x000D_\\nI...         2.0  \n",
       "4  Dear students,_x000D_\\n _x000D_\\nSUPG1010 Germ...         2.0  "
      ]
     },
     "execution_count": 2,
     "metadata": {},
     "output_type": "execute_result"
    }
   ],
   "source": [
    "df = pd.read_excel(\"Combined_Email.xlsx\")\n",
    "df.head()"
   ]
  },
  {
   "cell_type": "code",
   "execution_count": 3,
   "id": "1ab3be7a-11f1-42b6-aec2-292c5dc5d395",
   "metadata": {},
   "outputs": [
    {
     "data": {
      "text/plain": [
       "(5500, 4)"
      ]
     },
     "execution_count": 3,
     "metadata": {},
     "output_type": "execute_result"
    }
   ],
   "source": [
    "df.shape"
   ]
  },
  {
   "cell_type": "code",
   "execution_count": 4,
   "id": "48fa394b-0259-43ec-b278-471d8aafdcbc",
   "metadata": {},
   "outputs": [
    {
     "data": {
      "text/plain": [
       "From                      0\n",
       "Subject                   9\n",
       "Clean Body (No Links)    16\n",
       "Importance                7\n",
       "dtype: int64"
      ]
     },
     "execution_count": 4,
     "metadata": {},
     "output_type": "execute_result"
    }
   ],
   "source": [
    "df.isna().sum()"
   ]
  },
  {
   "cell_type": "code",
   "execution_count": 5,
   "id": "42c5fd59-6477-4a76-b238-30fc4b52a10a",
   "metadata": {},
   "outputs": [],
   "source": [
    "df['Importance'] = df['Importance'].fillna(1)"
   ]
  },
  {
   "cell_type": "code",
   "execution_count": 6,
   "id": "ef7323a1-e68c-43ed-a0b9-f52a0bedaf51",
   "metadata": {},
   "outputs": [],
   "source": [
    "df = df.fillna(\"\")"
   ]
  },
  {
   "cell_type": "code",
   "execution_count": 7,
   "id": "0930bb9c-ef7e-42e8-98c1-2159c7e25082",
   "metadata": {},
   "outputs": [
    {
     "data": {
      "text/html": [
       "<div>\n",
       "<style scoped>\n",
       "    .dataframe tbody tr th:only-of-type {\n",
       "        vertical-align: middle;\n",
       "    }\n",
       "\n",
       "    .dataframe tbody tr th {\n",
       "        vertical-align: top;\n",
       "    }\n",
       "\n",
       "    .dataframe thead th {\n",
       "        text-align: right;\n",
       "    }\n",
       "</style>\n",
       "<table border=\"1\" class=\"dataframe\">\n",
       "  <thead>\n",
       "    <tr style=\"text-align: right;\">\n",
       "      <th></th>\n",
       "      <th>From</th>\n",
       "      <th>Subject</th>\n",
       "      <th>Clean Body (No Links)</th>\n",
       "      <th>Importance</th>\n",
       "    </tr>\n",
       "  </thead>\n",
       "  <tbody>\n",
       "    <tr>\n",
       "      <th>883</th>\n",
       "      <td>Estates Office</td>\n",
       "      <td>Student Dental Scheme 2024-2025</td>\n",
       "      <td>&lt;  _x000D_\\n_x000D_\\n  _x000D_\\n_x000D_\\nDear...</td>\n",
       "      <td>22.0</td>\n",
       "    </tr>\n",
       "    <tr>\n",
       "      <th>905</th>\n",
       "      <td>Leadership Qualities Centre, Office of Student...</td>\n",
       "      <td>【CCL X 2 Units】HKBU Skilled Volunteer Cadre 20...</td>\n",
       "      <td>各位同學：_x000D_\\n _x000D_\\n &lt; _x000D_\\n _x000D_\\n...</td>\n",
       "      <td>22.0</td>\n",
       "    </tr>\n",
       "    <tr>\n",
       "      <th>1053</th>\n",
       "      <td>Career Centre</td>\n",
       "      <td>Recruitment of Administrative Officers in 2024/25</td>\n",
       "      <td>Dear students,_x000D_\\n _x000D_\\nThe AO Recrui...</td>\n",
       "      <td>33.0</td>\n",
       "    </tr>\n",
       "    <tr>\n",
       "      <th>3412</th>\n",
       "      <td>Glassdoor Jobs &lt;noreply@glassdoor.com&gt;</td>\n",
       "      <td>CRM Analyst (Data Analysis) at A.S. Watson Gro...</td>\n",
       "      <td>Chong Hing Bank is hiring ‌​‍‎‏ ‌​‍‎‏ ‌​‍‎‏ ‌​...</td>\n",
       "      <td>11.0</td>\n",
       "    </tr>\n",
       "    <tr>\n",
       "      <th>4699</th>\n",
       "      <td>22Bet &lt;noreply@22bet.com&gt;</td>\n",
       "      <td>🎉 Free bet for new wins</td>\n",
       "      <td>‌ ‌ ‌ ‌ ‌ ‌ ‌ ‌ ‌ ‌ ‌ ‌ ‌ ‌ ‌ ‌ ‌ ‌ ‌ ‌ ‌ ‌ ‌ ...</td>\n",
       "      <td>11.0</td>\n",
       "    </tr>\n",
       "    <tr>\n",
       "      <th>4819</th>\n",
       "      <td>Medium &lt;hello@medium.com&gt;</td>\n",
       "      <td>Support your favorite programming writers for ...</td>\n",
       "      <td>For a limited time, we’re offering a 20% disco...</td>\n",
       "      <td>11.0</td>\n",
       "    </tr>\n",
       "    <tr>\n",
       "      <th>5128</th>\n",
       "      <td>noreply@jijis.org.hk</td>\n",
       "      <td>Job Application for the Post of Intern (JIJIS-...</td>\n",
       "      <td>Dear Sir/Madam, I am writing to apply for the ...</td>\n",
       "      <td>33.0</td>\n",
       "    </tr>\n",
       "  </tbody>\n",
       "</table>\n",
       "</div>"
      ],
      "text/plain": [
       "                                                   From  \\\n",
       "883                                      Estates Office   \n",
       "905   Leadership Qualities Centre, Office of Student...   \n",
       "1053                                      Career Centre   \n",
       "3412             Glassdoor Jobs <noreply@glassdoor.com>   \n",
       "4699                          22Bet <noreply@22bet.com>   \n",
       "4819                          Medium <hello@medium.com>   \n",
       "5128                               noreply@jijis.org.hk   \n",
       "\n",
       "                                                Subject  \\\n",
       "883                     Student Dental Scheme 2024-2025   \n",
       "905   【CCL X 2 Units】HKBU Skilled Volunteer Cadre 20...   \n",
       "1053  Recruitment of Administrative Officers in 2024/25   \n",
       "3412  CRM Analyst (Data Analysis) at A.S. Watson Gro...   \n",
       "4699                            🎉 Free bet for new wins   \n",
       "4819  Support your favorite programming writers for ...   \n",
       "5128  Job Application for the Post of Intern (JIJIS-...   \n",
       "\n",
       "                                  Clean Body (No Links)  Importance  \n",
       "883    <  _x000D_\\n_x000D_\\n  _x000D_\\n_x000D_\\nDear...        22.0  \n",
       "905   各位同學：_x000D_\\n _x000D_\\n < _x000D_\\n _x000D_\\n...        22.0  \n",
       "1053  Dear students,_x000D_\\n _x000D_\\nThe AO Recrui...        33.0  \n",
       "3412  Chong Hing Bank is hiring ‌​‍‎‏ ‌​‍‎‏ ‌​‍‎‏ ‌​...        11.0  \n",
       "4699  ‌ ‌ ‌ ‌ ‌ ‌ ‌ ‌ ‌ ‌ ‌ ‌ ‌ ‌ ‌ ‌ ‌ ‌ ‌ ‌ ‌ ‌ ‌ ...        11.0  \n",
       "4819  For a limited time, we’re offering a 20% disco...        11.0  \n",
       "5128  Dear Sir/Madam, I am writing to apply for the ...        33.0  "
      ]
     },
     "execution_count": 7,
     "metadata": {},
     "output_type": "execute_result"
    }
   ],
   "source": [
    "df[df['Importance']>10]"
   ]
  },
  {
   "cell_type": "code",
   "execution_count": 8,
   "id": "db84bc72-2c7d-4637-aff7-17711ea524db",
   "metadata": {},
   "outputs": [],
   "source": [
    "df['Importance'] = df['Importance'].replace(22,2)"
   ]
  },
  {
   "cell_type": "code",
   "execution_count": 9,
   "id": "436f55e2-0eaf-4185-a05c-b62172cc10f7",
   "metadata": {},
   "outputs": [],
   "source": [
    "df['Importance'] = df['Importance'].replace(11,1)\n",
    "df['Importance'] = df['Importance'].replace(33,3)"
   ]
  },
  {
   "cell_type": "code",
   "execution_count": 10,
   "id": "b92188b8-3fb6-4d81-9762-468219ab40c9",
   "metadata": {},
   "outputs": [],
   "source": [
    "df[\"Clean Body (No Links)\"] = df[\"Clean Body (No Links)\"].str.replace(r'_x000D_|\\n', ' ', regex=True).str.strip()\n"
   ]
  },
  {
   "cell_type": "code",
   "execution_count": 23,
   "id": "be879693-10ce-4c7a-8db8-7b347322e07c",
   "metadata": {},
   "outputs": [
    {
     "data": {
      "text/html": [
       "<div>\n",
       "<style scoped>\n",
       "    .dataframe tbody tr th:only-of-type {\n",
       "        vertical-align: middle;\n",
       "    }\n",
       "\n",
       "    .dataframe tbody tr th {\n",
       "        vertical-align: top;\n",
       "    }\n",
       "\n",
       "    .dataframe thead th {\n",
       "        text-align: right;\n",
       "    }\n",
       "</style>\n",
       "<table border=\"1\" class=\"dataframe\">\n",
       "  <thead>\n",
       "    <tr style=\"text-align: right;\">\n",
       "      <th></th>\n",
       "      <th>From</th>\n",
       "      <th>Subject</th>\n",
       "      <th>Clean Body (No Links)</th>\n",
       "      <th>Importance</th>\n",
       "    </tr>\n",
       "  </thead>\n",
       "  <tbody>\n",
       "    <tr>\n",
       "      <th>0</th>\n",
       "      <td>HKBU</td>\n",
       "      <td>Today@HKBU</td>\n",
       "      <td>Exciting events at HKBU today.  If you cannot ...</td>\n",
       "      <td>2.0</td>\n",
       "    </tr>\n",
       "    <tr>\n",
       "      <th>1</th>\n",
       "      <td>Estates Office</td>\n",
       "      <td>Online Dental Health Talk - Daily Oral Health ...</td>\n",
       "      <td>Dear Students and Colleagues,     We are excit...</td>\n",
       "      <td>2.0</td>\n",
       "    </tr>\n",
       "    <tr>\n",
       "      <th>2</th>\n",
       "      <td>Language Centre Language Enhancement Programme</td>\n",
       "      <td>[Invitation] The Grand Final of the Three-Minu...</td>\n",
       "      <td>Dear Students and Colleagues,    You are cordi...</td>\n",
       "      <td>2.0</td>\n",
       "    </tr>\n",
       "    <tr>\n",
       "      <th>3</th>\n",
       "      <td>Career Centre</td>\n",
       "      <td>Join the InnoX Entrepreneurship Summer Camp 20...</td>\n",
       "      <td>&lt;    &lt;    &lt;     InnoX Entrepreneurship  Summer...</td>\n",
       "      <td>2.0</td>\n",
       "    </tr>\n",
       "    <tr>\n",
       "      <th>4</th>\n",
       "      <td>Language Centre Language Enhancement Programme</td>\n",
       "      <td>[Summer Course] Register for SUPG1010 German I...</td>\n",
       "      <td>Dear students,     SUPG1010 German I (Part 1) ...</td>\n",
       "      <td>2.0</td>\n",
       "    </tr>\n",
       "  </tbody>\n",
       "</table>\n",
       "</div>"
      ],
      "text/plain": [
       "                                             From  \\\n",
       "0                                            HKBU   \n",
       "1                                  Estates Office   \n",
       "2  Language Centre Language Enhancement Programme   \n",
       "3                                   Career Centre   \n",
       "4  Language Centre Language Enhancement Programme   \n",
       "\n",
       "                                             Subject  \\\n",
       "0                                         Today@HKBU   \n",
       "1  Online Dental Health Talk - Daily Oral Health ...   \n",
       "2  [Invitation] The Grand Final of the Three-Minu...   \n",
       "3  Join the InnoX Entrepreneurship Summer Camp 20...   \n",
       "4  [Summer Course] Register for SUPG1010 German I...   \n",
       "\n",
       "                               Clean Body (No Links)  Importance  \n",
       "0  Exciting events at HKBU today.  If you cannot ...         2.0  \n",
       "1  Dear Students and Colleagues,     We are excit...         2.0  \n",
       "2  Dear Students and Colleagues,    You are cordi...         2.0  \n",
       "3  <    <    <     InnoX Entrepreneurship  Summer...         2.0  \n",
       "4  Dear students,     SUPG1010 German I (Part 1) ...         2.0  "
      ]
     },
     "execution_count": 23,
     "metadata": {},
     "output_type": "execute_result"
    }
   ],
   "source": [
    "df.head()"
   ]
  },
  {
   "cell_type": "markdown",
   "id": "e3df5508-dc56-4967-be26-59154ed9f2c2",
   "metadata": {},
   "source": []
  },
  {
   "cell_type": "code",
   "execution_count": 25,
   "id": "449701dc-b0c2-474a-8e76-aa71d302ce10",
   "metadata": {},
   "outputs": [
    {
     "data": {
      "text/plain": [
       "From                      object\n",
       "Subject                   object\n",
       "Clean Body (No Links)     object\n",
       "Importance               float64\n",
       "dtype: object"
      ]
     },
     "execution_count": 25,
     "metadata": {},
     "output_type": "execute_result"
    }
   ],
   "source": [
    "df.dtypes"
   ]
  },
  {
   "cell_type": "code",
   "execution_count": 27,
   "id": "bc562af8-16a1-4ae9-8c4d-1091aa36dad0",
   "metadata": {},
   "outputs": [],
   "source": [
    "X = df[[\"From\", \"Subject\", \"Clean Body (No Links)\"]]\n",
    "y = df[\"Importance\"]"
   ]
  },
  {
   "cell_type": "code",
   "execution_count": 29,
   "id": "49e04a71-9548-4210-b53b-7a67e552c099",
   "metadata": {},
   "outputs": [],
   "source": [
    "# Convert all text columns to strings\n",
    "X[\"From\"] = X[\"From\"].astype(str)\n",
    "X[\"Subject\"] = X[\"Subject\"].astype(str)\n",
    "X[\"Clean Body (No Links)\"] = X[\"Clean Body (No Links)\"].astype(str)"
   ]
  },
  {
   "cell_type": "code",
   "execution_count": 31,
   "id": "568fc8dc-b453-4426-be7f-b6b997d9dfbc",
   "metadata": {},
   "outputs": [],
   "source": [
    "# TF-IDF Transformation\n",
    "preprocessor = ColumnTransformer([\n",
    "    ('from_tfidf', TfidfVectorizer(), 'From'),\n",
    "    ('subject_tfidf', TfidfVectorizer(), 'Subject'),\n",
    "    ('body_tfidf', TfidfVectorizer(), 'Clean Body (No Links)'),\n",
    "])"
   ]
  },
  {
   "cell_type": "code",
   "execution_count": 33,
   "id": "cfcf480a-ecce-4d93-9e9b-d75b78c6435c",
   "metadata": {},
   "outputs": [],
   "source": [
    "# Fit TF-IDF and transform\n",
    "X_tfidf = preprocessor.fit_transform(X)"
   ]
  },
  {
   "cell_type": "code",
   "execution_count": 34,
   "id": "e0932e62-ad87-4607-843b-04ac4c9f981d",
   "metadata": {},
   "outputs": [],
   "source": [
    "# Split before SMOTE\n",
    "X_train, X_test, y_train, y_test = train_test_split(\n",
    "    X_tfidf, y, test_size=0.2, random_state=42, stratify=y\n",
    ")"
   ]
  },
  {
   "cell_type": "code",
   "execution_count": 35,
   "id": "08bf1efc-0806-41f8-b81d-e9dc950895ad",
   "metadata": {},
   "outputs": [],
   "source": [
    "# Apply SMOTE to training data only\n",
    "smote = SMOTE(random_state=42)\n",
    "X_train_resampled, y_train_resampled = smote.fit_resample(X_train, y_train)"
   ]
  },
  {
   "cell_type": "code",
   "execution_count": 40,
   "id": "7f62a5a1-7916-443d-854f-eda80ea23106",
   "metadata": {},
   "outputs": [],
   "source": [
    "# K-Fold Cross-Validation on training data\n",
    "cv = StratifiedKFold(n_splits=5, shuffle=True, random_state=42)"
   ]
  },
  {
   "cell_type": "code",
   "execution_count": 42,
   "id": "056d81b9-1c3c-43ce-859e-272016c0ce9a",
   "metadata": {},
   "outputs": [],
   "source": [
    "# Models to evaluate\n",
    "models = {\n",
    "    \"Logistic Regression\": LogisticRegression(max_iter=1000),\n",
    "    \"Random Forest\": RandomForestClassifier(),\n",
    "    \"SVM\": SVC(),\n",
    "    \"Gradient Boosting\": GradientBoostingClassifier()\n",
    "}"
   ]
  },
  {
   "cell_type": "code",
   "execution_count": 62,
   "id": "b6b44d6e-f755-4cfd-bf61-f8b64a2de630",
   "metadata": {},
   "outputs": [
    {
     "name": "stdout",
     "output_type": "stream",
     "text": [
      "Evaluating Logistic Regression...\n",
      "  Fold 1: F1 = 0.9717\n",
      "  Fold 2: F1 = 0.9695\n",
      "  Fold 3: F1 = 0.9710\n",
      "  Fold 4: F1 = 0.9650\n",
      "  Fold 5: F1 = 0.9628\n",
      "Mean F1 for Logistic Regression: 0.9680\n",
      "\n",
      "Evaluating Random Forest...\n",
      "  Fold 1: F1 = 0.9768\n",
      "  Fold 2: F1 = 0.9746\n",
      "  Fold 3: F1 = 0.9694\n",
      "  Fold 4: F1 = 0.9678\n",
      "  Fold 5: F1 = 0.9673\n",
      "Mean F1 for Random Forest: 0.9712\n",
      "\n",
      "Evaluating SVM...\n",
      "  Fold 1: F1 = 0.9734\n",
      "  Fold 2: F1 = 0.9756\n",
      "  Fold 3: F1 = 0.9722\n",
      "  Fold 4: F1 = 0.9650\n",
      "  Fold 5: F1 = 0.9650\n",
      "Mean F1 for SVM: 0.9703\n",
      "\n",
      "Evaluating Gradient Boosting...\n",
      "  Fold 1: F1 = 0.9613\n",
      "  Fold 2: F1 = 0.9607\n",
      "  Fold 3: F1 = 0.9646\n",
      "  Fold 4: F1 = 0.9529\n",
      "  Fold 5: F1 = 0.9469\n",
      "Mean F1 for Gradient Boosting: 0.9573\n",
      "\n",
      "📊 F1-Score Table (by fold):\n",
      "        Logistic Regression  Random Forest       SVM  Gradient Boosting\n",
      "Fold 1             0.971732       0.976756  0.973401           0.961275\n",
      "Fold 2             0.969478       0.974550  0.975594           0.960724\n",
      "Fold 3             0.971050       0.969426  0.972211           0.964575\n",
      "Fold 4             0.965036       0.967833  0.965040           0.952897\n",
      "Fold 5             0.962790       0.967299  0.965028           0.946874\n",
      "Mean               0.968017       0.971173  0.970255           0.957269\n"
     ]
    }
   ],
   "source": [
    "# Track F1-scores\n",
    "results = {}\n",
    "\n",
    "for name, model in models.items():\n",
    "    print(f\"Evaluating {name}...\")\n",
    "    fold_scores = []\n",
    "    \n",
    "    for fold, (train_idx, val_idx) in enumerate(cv.split(X_train_resampled, y_train_resampled), 1):\n",
    "        X_tr, X_val = X_train_resampled[train_idx], X_train_resampled[val_idx]\n",
    "        y_tr, y_val = y_train_resampled[train_idx], y_train_resampled[val_idx]\n",
    "        \n",
    "        clf = clone(model)\n",
    "        clf.fit(X_tr, y_tr)\n",
    "        y_pred = clf.predict(X_val)\n",
    "        \n",
    "        f1 = f1_score(y_val, y_pred, average='weighted')\n",
    "        fold_scores.append(f1)\n",
    "        print(f\"  Fold {fold}: F1 = {f1:.4f}\")\n",
    "    \n",
    "    results[name] = fold_scores\n",
    "    print(f\"Mean F1 for {name}: {np.mean(fold_scores):.4f}\\n\")\n",
    "\n",
    "# Convert to DataFrame\n",
    "f1_df = pd.DataFrame(results)\n",
    "f1_df.index = [f\"Fold {i+1}\" for i in range(cv.get_n_splits())]\n",
    "f1_df.loc[\"Mean\"] = f1_df.mean()\n",
    "print(\" F1-Score Table (by fold):\")\n",
    "print(f1_df)"
   ]
  },
  {
   "cell_type": "code",
   "execution_count": 63,
   "id": "00545a70-b6d3-4fce-b722-ee3adf0b2191",
   "metadata": {},
   "outputs": [
    {
     "name": "stdout",
     "output_type": "stream",
     "text": [
      "\n",
      "✅ Best Model: Random Forest with Mean F1 = 0.9712\n",
      "\n",
      "📈 Final Evaluation on Unseen Test Set:\n",
      "              precision    recall  f1-score   support\n",
      "\n",
      "         1.0     0.9569    0.9592    0.9581       417\n",
      "         2.0     0.9143    0.9447    0.9293       452\n",
      "         3.0     0.7870    0.7658    0.7763       111\n",
      "         4.0     0.9615    0.7576    0.8475        33\n",
      "         5.0     0.7901    0.7356    0.7619        87\n",
      "\n",
      "    accuracy                         0.9100      1100\n",
      "   macro avg     0.8820    0.8326    0.8546      1100\n",
      "weighted avg     0.9092    0.9100    0.9091      1100\n",
      "\n"
     ]
    }
   ],
   "source": [
    "# Select best model\n",
    "best_model_name = f1_df.loc[\"Mean\"].idxmax()\n",
    "best_model = clone(models[best_model_name])\n",
    "print(f\"\\n Best Model: {best_model_name} with Mean F1 = {f1_df.loc['Mean', best_model_name]:.4f}\")\n",
    "\n",
    "# Retrain on full resampled training data\n",
    "best_model.fit(X_train_resampled, y_train_resampled)\n",
    "\n",
    "# Final test set evaluation\n",
    "y_test_pred = best_model.predict(X_test)\n",
    "print(\"\\n Final Evaluation on Unseen Test Set:\")\n",
    "print(classification_report(y_test, y_test_pred, digits=4))\n"
   ]
  },
  {
   "cell_type": "markdown",
   "id": "9fe7a56c-12cb-4341-aa5e-01ccb360d1fc",
   "metadata": {},
   "source": [
    "## Making the model more effecient"
   ]
  },
  {
   "cell_type": "code",
   "execution_count": 80,
   "id": "ff837d18-1299-4654-b8a2-2cecae7b8eb4",
   "metadata": {},
   "outputs": [
    {
     "name": "stdout",
     "output_type": "stream",
     "text": [
      "Fitting 3 folds for each of 18 candidates, totalling 54 fits\n",
      "Best Parameters: {'max_depth': None, 'min_samples_split': 2, 'n_estimators': 500}\n",
      "\n",
      "Final Evaluation after tuning:\n",
      "              precision    recall  f1-score   support\n",
      "\n",
      "         1.0     0.9592    0.9592    0.9592       417\n",
      "         2.0     0.9070    0.9491    0.9276       452\n",
      "         3.0     0.7981    0.7477    0.7721       111\n",
      "         4.0     0.9630    0.7879    0.8667        33\n",
      "         5.0     0.8101    0.7356    0.7711        87\n",
      "\n",
      "    accuracy                         0.9109      1100\n",
      "   macro avg     0.8875    0.8359    0.8593      1100\n",
      "weighted avg     0.9098    0.9109    0.9097      1100\n",
      "\n"
     ]
    }
   ],
   "source": [
    "from sklearn.model_selection import GridSearchCV\n",
    "\n",
    "param_grid = {\n",
    "    'n_estimators': [100, 300, 500],\n",
    "    'max_depth': [None, 10, 20],\n",
    "    'min_samples_split': [2, 5]\n",
    "}\n",
    "\n",
    "grid = GridSearchCV(RandomForestClassifier(), param_grid,\n",
    "                    cv=3, scoring='f1_weighted', n_jobs=-1, verbose=2)\n",
    "\n",
    "grid.fit(X_train_resampled, y_train_resampled)\n",
    "\n",
    "print(\"Best Parameters:\", grid.best_params_)\n",
    "\n",
    "# Retrain best model on full training data\n",
    "best_rf = grid.best_estimator_\n",
    "best_rf.fit(X_train_resampled, y_train_resampled)\n",
    "\n",
    "# Final evaluation\n",
    "y_test_pred = best_rf.predict(X_test)\n",
    "print(\"\\nFinal Evaluation after tuning:\")\n",
    "print(classification_report(y_test, y_test_pred, digits=4))\n"
   ]
  },
  {
   "cell_type": "code",
   "execution_count": null,
   "id": "b0f7ae5b-3265-406b-9c39-fdae97bfe16e",
   "metadata": {},
   "outputs": [],
   "source": [
    "## not as accurate for emails with importance 3.0, 4.0  and 5.0. we can make it more accurate if we have a larger dataset"
   ]
  },
  {
   "cell_type": "code",
   "execution_count": 653,
   "id": "7ec28e1f-750e-4f4e-9669-bc9a1281062e",
   "metadata": {},
   "outputs": [
    {
     "data": {
      "text/plain": [
       "['email_classifier_svm_model_with_tfidf_smote.pkl']"
      ]
     },
     "execution_count": 653,
     "metadata": {},
     "output_type": "execute_result"
    }
   ],
   "source": [
    "# import joblib\n",
    "\n",
    "# # Save the model and pipeline to a file\n",
    "# joblib.dump(pipeline, 'email_classifier_svm_model_with_tfidf_smote.pkl')\n"
   ]
  },
  {
   "cell_type": "code",
   "execution_count": 82,
   "id": "98c70484-5995-44c0-814e-53042924eeea",
   "metadata": {},
   "outputs": [
    {
     "data": {
      "text/plain": [
       "['email_classifier_rf_model_with_tfidf_smote.pkl']"
      ]
     },
     "execution_count": 82,
     "metadata": {},
     "output_type": "execute_result"
    }
   ],
   "source": [
    "import joblib\n",
    "\n",
    "# Save the model and pipeline to a file\n",
    "joblib.dump(best_rf, 'email_classifier_rf_model_with_tfidf_smote.pkl')\n"
   ]
  },
  {
   "cell_type": "code",
   "execution_count": null,
   "id": "872198ec-0663-4149-98a7-1f7bdac9031f",
   "metadata": {},
   "outputs": [],
   "source": []
  },
  {
   "cell_type": "code",
   "execution_count": null,
   "id": "9ca89555-b602-4534-afad-0df6e3a678a3",
   "metadata": {},
   "outputs": [],
   "source": []
  },
  {
   "cell_type": "code",
   "execution_count": null,
   "id": "ad13af6e-0b6c-40fa-9e81-18b83cad5908",
   "metadata": {},
   "outputs": [],
   "source": []
  }
 ],
 "metadata": {
  "kernelspec": {
   "display_name": "Python [conda env:base] *",
   "language": "python",
   "name": "conda-base-py"
  },
  "language_info": {
   "codemirror_mode": {
    "name": "ipython",
    "version": 3
   },
   "file_extension": ".py",
   "mimetype": "text/x-python",
   "name": "python",
   "nbconvert_exporter": "python",
   "pygments_lexer": "ipython3",
   "version": "3.12.7"
  }
 },
 "nbformat": 4,
 "nbformat_minor": 5
}
